{
 "cells": [
  {
   "cell_type": "code",
   "execution_count": 27,
   "id": "b4454ca6-5294-4a2a-a996-70de18a8575a",
   "metadata": {
    "tags": []
   },
   "outputs": [],
   "source": [
    "import os\n",
    "import cv2\n",
    "import numpy as np\n",
    "from sklearn.model_selection import train_test_split\n",
    "from sklearn.preprocessing import LabelEncoder\n",
    "from keras.models import Sequential\n",
    "from keras.layers import Conv2D, MaxPooling2D, Flatten, Dense, Dropout"
   ]
  },
  {
   "cell_type": "code",
   "execution_count": 28,
   "id": "53cce237-f5f1-45d6-9b50-bd4b58230e5b",
   "metadata": {
    "tags": []
   },
   "outputs": [
    {
     "name": "stdout",
     "output_type": "stream",
     "text": [
      "Empty image: C:\\Users\\HP\\Desktop\\leapGestRecog\\leapGestRecog\\00\\01_palm\n",
      "Empty image: C:\\Users\\HP\\Desktop\\leapGestRecog\\leapGestRecog\\00\\02_l\n",
      "Empty image: C:\\Users\\HP\\Desktop\\leapGestRecog\\leapGestRecog\\00\\03_fist\n",
      "Empty image: C:\\Users\\HP\\Desktop\\leapGestRecog\\leapGestRecog\\00\\04_fist_moved\n",
      "Empty image: C:\\Users\\HP\\Desktop\\leapGestRecog\\leapGestRecog\\00\\05_thumb\n",
      "Empty image: C:\\Users\\HP\\Desktop\\leapGestRecog\\leapGestRecog\\00\\06_index\n",
      "Empty image: C:\\Users\\HP\\Desktop\\leapGestRecog\\leapGestRecog\\00\\07_ok\n",
      "Empty image: C:\\Users\\HP\\Desktop\\leapGestRecog\\leapGestRecog\\00\\08_palm_moved\n",
      "Empty image: C:\\Users\\HP\\Desktop\\leapGestRecog\\leapGestRecog\\00\\09_c\n",
      "Empty image: C:\\Users\\HP\\Desktop\\leapGestRecog\\leapGestRecog\\00\\10_down\n",
      "Empty image: C:\\Users\\HP\\Desktop\\leapGestRecog\\leapGestRecog\\01\\01_palm\n",
      "Empty image: C:\\Users\\HP\\Desktop\\leapGestRecog\\leapGestRecog\\01\\02_l\n",
      "Empty image: C:\\Users\\HP\\Desktop\\leapGestRecog\\leapGestRecog\\01\\03_fist\n",
      "Empty image: C:\\Users\\HP\\Desktop\\leapGestRecog\\leapGestRecog\\01\\04_fist_moved\n",
      "Empty image: C:\\Users\\HP\\Desktop\\leapGestRecog\\leapGestRecog\\01\\05_thumb\n",
      "Empty image: C:\\Users\\HP\\Desktop\\leapGestRecog\\leapGestRecog\\01\\06_index\n",
      "Empty image: C:\\Users\\HP\\Desktop\\leapGestRecog\\leapGestRecog\\01\\07_ok\n",
      "Empty image: C:\\Users\\HP\\Desktop\\leapGestRecog\\leapGestRecog\\01\\08_palm_moved\n",
      "Empty image: C:\\Users\\HP\\Desktop\\leapGestRecog\\leapGestRecog\\01\\09_c\n",
      "Empty image: C:\\Users\\HP\\Desktop\\leapGestRecog\\leapGestRecog\\01\\10_down\n",
      "Empty image: C:\\Users\\HP\\Desktop\\leapGestRecog\\leapGestRecog\\02\\01_palm\n",
      "Empty image: C:\\Users\\HP\\Desktop\\leapGestRecog\\leapGestRecog\\02\\02_l\n",
      "Empty image: C:\\Users\\HP\\Desktop\\leapGestRecog\\leapGestRecog\\02\\03_fist\n",
      "Empty image: C:\\Users\\HP\\Desktop\\leapGestRecog\\leapGestRecog\\02\\04_fist_moved\n",
      "Empty image: C:\\Users\\HP\\Desktop\\leapGestRecog\\leapGestRecog\\02\\05_thumb\n",
      "Empty image: C:\\Users\\HP\\Desktop\\leapGestRecog\\leapGestRecog\\02\\06_index\n",
      "Empty image: C:\\Users\\HP\\Desktop\\leapGestRecog\\leapGestRecog\\02\\07_ok\n",
      "Empty image: C:\\Users\\HP\\Desktop\\leapGestRecog\\leapGestRecog\\02\\08_palm_moved\n",
      "Empty image: C:\\Users\\HP\\Desktop\\leapGestRecog\\leapGestRecog\\02\\09_c\n",
      "Empty image: C:\\Users\\HP\\Desktop\\leapGestRecog\\leapGestRecog\\02\\10_down\n",
      "Empty image: C:\\Users\\HP\\Desktop\\leapGestRecog\\leapGestRecog\\03\\01_palm\n",
      "Empty image: C:\\Users\\HP\\Desktop\\leapGestRecog\\leapGestRecog\\03\\02_l\n",
      "Empty image: C:\\Users\\HP\\Desktop\\leapGestRecog\\leapGestRecog\\03\\03_fist\n",
      "Empty image: C:\\Users\\HP\\Desktop\\leapGestRecog\\leapGestRecog\\03\\04_fist_moved\n",
      "Empty image: C:\\Users\\HP\\Desktop\\leapGestRecog\\leapGestRecog\\03\\05_thumb\n",
      "Empty image: C:\\Users\\HP\\Desktop\\leapGestRecog\\leapGestRecog\\03\\06_index\n",
      "Empty image: C:\\Users\\HP\\Desktop\\leapGestRecog\\leapGestRecog\\03\\07_ok\n",
      "Empty image: C:\\Users\\HP\\Desktop\\leapGestRecog\\leapGestRecog\\03\\08_palm_moved\n",
      "Empty image: C:\\Users\\HP\\Desktop\\leapGestRecog\\leapGestRecog\\03\\09_c\n",
      "Empty image: C:\\Users\\HP\\Desktop\\leapGestRecog\\leapGestRecog\\03\\10_down\n",
      "Empty image: C:\\Users\\HP\\Desktop\\leapGestRecog\\leapGestRecog\\04\\01_palm\n",
      "Empty image: C:\\Users\\HP\\Desktop\\leapGestRecog\\leapGestRecog\\04\\02_l\n",
      "Empty image: C:\\Users\\HP\\Desktop\\leapGestRecog\\leapGestRecog\\04\\03_fist\n",
      "Empty image: C:\\Users\\HP\\Desktop\\leapGestRecog\\leapGestRecog\\04\\04_fist_moved\n",
      "Empty image: C:\\Users\\HP\\Desktop\\leapGestRecog\\leapGestRecog\\04\\05_thumb\n",
      "Empty image: C:\\Users\\HP\\Desktop\\leapGestRecog\\leapGestRecog\\04\\06_index\n",
      "Empty image: C:\\Users\\HP\\Desktop\\leapGestRecog\\leapGestRecog\\04\\07_ok\n",
      "Empty image: C:\\Users\\HP\\Desktop\\leapGestRecog\\leapGestRecog\\04\\08_palm_moved\n",
      "Empty image: C:\\Users\\HP\\Desktop\\leapGestRecog\\leapGestRecog\\04\\09_c\n",
      "Empty image: C:\\Users\\HP\\Desktop\\leapGestRecog\\leapGestRecog\\04\\10_down\n",
      "Empty image: C:\\Users\\HP\\Desktop\\leapGestRecog\\leapGestRecog\\05\\01_palm\n",
      "Empty image: C:\\Users\\HP\\Desktop\\leapGestRecog\\leapGestRecog\\05\\02_l\n",
      "Empty image: C:\\Users\\HP\\Desktop\\leapGestRecog\\leapGestRecog\\05\\03_fist\n",
      "Empty image: C:\\Users\\HP\\Desktop\\leapGestRecog\\leapGestRecog\\05\\04_fist_moved\n",
      "Empty image: C:\\Users\\HP\\Desktop\\leapGestRecog\\leapGestRecog\\05\\05_thumb\n",
      "Empty image: C:\\Users\\HP\\Desktop\\leapGestRecog\\leapGestRecog\\05\\06_index\n",
      "Empty image: C:\\Users\\HP\\Desktop\\leapGestRecog\\leapGestRecog\\05\\07_ok\n",
      "Empty image: C:\\Users\\HP\\Desktop\\leapGestRecog\\leapGestRecog\\05\\08_palm_moved\n",
      "Empty image: C:\\Users\\HP\\Desktop\\leapGestRecog\\leapGestRecog\\05\\09_c\n",
      "Empty image: C:\\Users\\HP\\Desktop\\leapGestRecog\\leapGestRecog\\05\\10_down\n",
      "Empty image: C:\\Users\\HP\\Desktop\\leapGestRecog\\leapGestRecog\\06\\01_palm\n",
      "Empty image: C:\\Users\\HP\\Desktop\\leapGestRecog\\leapGestRecog\\06\\02_l\n",
      "Empty image: C:\\Users\\HP\\Desktop\\leapGestRecog\\leapGestRecog\\06\\03_fist\n",
      "Empty image: C:\\Users\\HP\\Desktop\\leapGestRecog\\leapGestRecog\\06\\04_fist_moved\n",
      "Empty image: C:\\Users\\HP\\Desktop\\leapGestRecog\\leapGestRecog\\06\\05_thumb\n",
      "Empty image: C:\\Users\\HP\\Desktop\\leapGestRecog\\leapGestRecog\\06\\06_index\n",
      "Empty image: C:\\Users\\HP\\Desktop\\leapGestRecog\\leapGestRecog\\06\\07_ok\n",
      "Empty image: C:\\Users\\HP\\Desktop\\leapGestRecog\\leapGestRecog\\06\\08_palm_moved\n",
      "Empty image: C:\\Users\\HP\\Desktop\\leapGestRecog\\leapGestRecog\\06\\09_c\n",
      "Empty image: C:\\Users\\HP\\Desktop\\leapGestRecog\\leapGestRecog\\06\\10_down\n",
      "Empty image: C:\\Users\\HP\\Desktop\\leapGestRecog\\leapGestRecog\\07\\01_palm\n",
      "Empty image: C:\\Users\\HP\\Desktop\\leapGestRecog\\leapGestRecog\\07\\02_l\n",
      "Empty image: C:\\Users\\HP\\Desktop\\leapGestRecog\\leapGestRecog\\07\\03_fist\n",
      "Empty image: C:\\Users\\HP\\Desktop\\leapGestRecog\\leapGestRecog\\07\\04_fist_moved\n",
      "Empty image: C:\\Users\\HP\\Desktop\\leapGestRecog\\leapGestRecog\\07\\05_thumb\n",
      "Empty image: C:\\Users\\HP\\Desktop\\leapGestRecog\\leapGestRecog\\07\\06_index\n",
      "Empty image: C:\\Users\\HP\\Desktop\\leapGestRecog\\leapGestRecog\\07\\07_ok\n",
      "Empty image: C:\\Users\\HP\\Desktop\\leapGestRecog\\leapGestRecog\\07\\08_palm_moved\n",
      "Empty image: C:\\Users\\HP\\Desktop\\leapGestRecog\\leapGestRecog\\07\\09_c\n",
      "Empty image: C:\\Users\\HP\\Desktop\\leapGestRecog\\leapGestRecog\\07\\10_down\n",
      "Empty image: C:\\Users\\HP\\Desktop\\leapGestRecog\\leapGestRecog\\08\\01_palm\n",
      "Empty image: C:\\Users\\HP\\Desktop\\leapGestRecog\\leapGestRecog\\08\\02_l\n",
      "Empty image: C:\\Users\\HP\\Desktop\\leapGestRecog\\leapGestRecog\\08\\03_fist\n",
      "Empty image: C:\\Users\\HP\\Desktop\\leapGestRecog\\leapGestRecog\\08\\04_fist_moved\n",
      "Empty image: C:\\Users\\HP\\Desktop\\leapGestRecog\\leapGestRecog\\08\\05_thumb\n",
      "Empty image: C:\\Users\\HP\\Desktop\\leapGestRecog\\leapGestRecog\\08\\06_index\n",
      "Empty image: C:\\Users\\HP\\Desktop\\leapGestRecog\\leapGestRecog\\08\\07_ok\n",
      "Empty image: C:\\Users\\HP\\Desktop\\leapGestRecog\\leapGestRecog\\08\\08_palm_moved\n",
      "Empty image: C:\\Users\\HP\\Desktop\\leapGestRecog\\leapGestRecog\\08\\09_c\n",
      "Empty image: C:\\Users\\HP\\Desktop\\leapGestRecog\\leapGestRecog\\08\\10_down\n",
      "Empty image: C:\\Users\\HP\\Desktop\\leapGestRecog\\leapGestRecog\\09\\01_palm\n",
      "Empty image: C:\\Users\\HP\\Desktop\\leapGestRecog\\leapGestRecog\\09\\02_l\n",
      "Empty image: C:\\Users\\HP\\Desktop\\leapGestRecog\\leapGestRecog\\09\\03_fist\n",
      "Empty image: C:\\Users\\HP\\Desktop\\leapGestRecog\\leapGestRecog\\09\\04_fist_moved\n",
      "Empty image: C:\\Users\\HP\\Desktop\\leapGestRecog\\leapGestRecog\\09\\05_thumb\n",
      "Empty image: C:\\Users\\HP\\Desktop\\leapGestRecog\\leapGestRecog\\09\\06_index\n",
      "Empty image: C:\\Users\\HP\\Desktop\\leapGestRecog\\leapGestRecog\\09\\07_ok\n",
      "Empty image: C:\\Users\\HP\\Desktop\\leapGestRecog\\leapGestRecog\\09\\08_palm_moved\n",
      "Empty image: C:\\Users\\HP\\Desktop\\leapGestRecog\\leapGestRecog\\09\\09_c\n",
      "Empty image: C:\\Users\\HP\\Desktop\\leapGestRecog\\leapGestRecog\\09\\10_down\n"
     ]
    }
   ],
   "source": [
    "data_dir = r'C:\\Users\\HP\\Desktop\\leapGestRecog'\n",
    "gesture_folders = os.listdir(data_dir)\n",
    "X = []\n",
    "y = []\n",
    "\n",
    "        \n",
    "for folder in gesture_folders:\n",
    "    subject_path = os.path.join(data_dir, folder)\n",
    "    if os.path.isdir(subject_path):\n",
    "        gesture_files = os.listdir(subject_path)\n",
    "        for gesture_file in gesture_files:\n",
    "            gesture_path = os.path.join(subject_path, gesture_file)\n",
    "            if os.path.isdir(gesture_path):\n",
    "                gesture_images = os.listdir(gesture_path)\n",
    "                for image_file in gesture_images:\n",
    "                    image_path = os.path.join(gesture_path, image_file)\n",
    "                    try:\n",
    "                        image = cv2.imread(image_path)\n",
    "                        if image is not None:  # Check if the image is not empty\n",
    "                            image = cv2.resize(image, (64, 64))  # Resize images to a common size\n",
    "                            X.append(image)\n",
    "                            y.append(folder)  # Append the folder name as label\n",
    "                        else:\n",
    "                            print(f\"Empty image: {image_path}\")\n",
    "                    except Exception as e:\n",
    "                        print(f\"Error reading image: {image_path} - {e}\")\n"
   ]
  },
  {
   "cell_type": "code",
   "execution_count": 29,
   "id": "7406cc99-7016-4eb8-a972-ca7555c4c830",
   "metadata": {
    "tags": []
   },
   "outputs": [],
   "source": [
    "X = np.array(X)\n",
    "X = X.astype('float32') / 255.0  # Normalize pixel values\n",
    "label_encoder = LabelEncoder()\n",
    "y = label_encoder.fit_transform(y)\n"
   ]
  },
  {
   "cell_type": "code",
   "execution_count": 30,
   "id": "7fde57bc-b9a8-4cdd-9519-077aa3c80aad",
   "metadata": {
    "tags": []
   },
   "outputs": [],
   "source": [
    "X_train, X_test, y_train, y_test = train_test_split(X, y, test_size=0.2, random_state=42)"
   ]
  },
  {
   "cell_type": "code",
   "execution_count": 31,
   "id": "bbbb442d-59e6-422f-be09-e3ec7b9cff0c",
   "metadata": {
    "tags": []
   },
   "outputs": [],
   "source": [
    "num_classes = len(np.unique(y))"
   ]
  },
  {
   "cell_type": "code",
   "execution_count": 32,
   "id": "8e7eadc4-ed83-4e06-8090-f6d75026f81f",
   "metadata": {
    "tags": []
   },
   "outputs": [
    {
     "name": "stdout",
     "output_type": "stream",
     "text": [
      "Epoch 1/10\n",
      "500/500 [==============================] - 41s 76ms/step - loss: 0.4334 - accuracy: 0.8511 - val_loss: 0.0207 - val_accuracy: 0.9902\n",
      "Epoch 2/10\n",
      "500/500 [==============================] - 37s 74ms/step - loss: 0.0502 - accuracy: 0.9822 - val_loss: 0.0143 - val_accuracy: 0.9915\n",
      "Epoch 3/10\n",
      "500/500 [==============================] - 38s 77ms/step - loss: 0.0341 - accuracy: 0.9854 - val_loss: 0.0143 - val_accuracy: 0.9912\n",
      "Epoch 4/10\n",
      "500/500 [==============================] - 37s 74ms/step - loss: 0.0276 - accuracy: 0.9874 - val_loss: 0.0141 - val_accuracy: 0.9905\n",
      "Epoch 5/10\n",
      "500/500 [==============================] - 37s 74ms/step - loss: 0.0234 - accuracy: 0.9891 - val_loss: 0.0172 - val_accuracy: 0.9908\n",
      "Epoch 6/10\n",
      "500/500 [==============================] - 37s 74ms/step - loss: 0.0232 - accuracy: 0.9893 - val_loss: 0.0179 - val_accuracy: 0.9915\n",
      "Epoch 7/10\n",
      "500/500 [==============================] - 37s 75ms/step - loss: 0.0199 - accuracy: 0.9901 - val_loss: 0.0142 - val_accuracy: 0.9908\n",
      "Epoch 8/10\n",
      "500/500 [==============================] - 37s 75ms/step - loss: 0.0214 - accuracy: 0.9892 - val_loss: 0.0140 - val_accuracy: 0.9910\n",
      "Epoch 9/10\n",
      "500/500 [==============================] - 38s 75ms/step - loss: 0.0177 - accuracy: 0.9904 - val_loss: 0.0125 - val_accuracy: 0.9925\n",
      "Epoch 10/10\n",
      "500/500 [==============================] - 37s 73ms/step - loss: 0.0170 - accuracy: 0.9918 - val_loss: 0.0137 - val_accuracy: 0.9912\n"
     ]
    },
    {
     "data": {
      "text/plain": [
       "<keras.src.callbacks.History at 0x1f808a31f90>"
      ]
     },
     "execution_count": 32,
     "metadata": {},
     "output_type": "execute_result"
    }
   ],
   "source": [
    "model = Sequential([\n",
    "    Conv2D(32, (3, 3), activation='relu', input_shape=(64, 64, 3)),\n",
    "    MaxPooling2D((2, 2)),\n",
    "    Conv2D(64, (3, 3), activation='relu'),\n",
    "    MaxPooling2D((2, 2)),\n",
    "    Flatten(),\n",
    "    Dense(128, activation='relu'),\n",
    "    Dropout(0.5),\n",
    "    Dense(num_classes, activation='softmax')\n",
    "])\n",
    "\n",
    "model.compile(optimizer='adam', loss='sparse_categorical_crossentropy', metrics=['accuracy'])\n",
    "model.fit(X_train, y_train, epochs=10, batch_size=32, validation_data=(X_test, y_test))"
   ]
  },
  {
   "cell_type": "code",
   "execution_count": 33,
   "id": "15eaf72b-5712-4599-879b-361be769c058",
   "metadata": {
    "tags": []
   },
   "outputs": [
    {
     "name": "stdout",
     "output_type": "stream",
     "text": [
      "125/125 [==============================] - 2s 15ms/step - loss: 0.0137 - accuracy: 0.9912\n",
      "Test Loss: 0.013700829818844795\n",
      "Test Accuracy: 0.9912499785423279\n"
     ]
    }
   ],
   "source": [
    "loss, accuracy = model.evaluate(X_test, y_test)\n",
    "print(\"Test Loss:\", loss)\n",
    "print(\"Test Accuracy:\", accuracy)"
   ]
  },
  {
   "cell_type": "code",
   "execution_count": null,
   "id": "aa620bd1-9d47-44a1-814a-50ea1ab8e9ac",
   "metadata": {
    "tags": []
   },
   "outputs": [],
   "source": []
  },
  {
   "cell_type": "code",
   "execution_count": null,
   "id": "59c212d7-fcab-4063-ae17-75f87c5a5ce0",
   "metadata": {
    "tags": []
   },
   "outputs": [],
   "source": []
  },
  {
   "cell_type": "code",
   "execution_count": null,
   "id": "b564ba21-656a-4c84-bcb5-7248e728e211",
   "metadata": {
    "tags": []
   },
   "outputs": [],
   "source": []
  },
  {
   "cell_type": "code",
   "execution_count": null,
   "id": "bd6c2e90-279b-4b18-a2cd-743fc8a6575c",
   "metadata": {},
   "outputs": [],
   "source": []
  }
 ],
 "metadata": {
  "kernelspec": {
   "display_name": "Python 3 (ipykernel)",
   "language": "python",
   "name": "python3"
  },
  "language_info": {
   "codemirror_mode": {
    "name": "ipython",
    "version": 3
   },
   "file_extension": ".py",
   "mimetype": "text/x-python",
   "name": "python",
   "nbconvert_exporter": "python",
   "pygments_lexer": "ipython3",
   "version": "3.11.5"
  }
 },
 "nbformat": 4,
 "nbformat_minor": 5
}
